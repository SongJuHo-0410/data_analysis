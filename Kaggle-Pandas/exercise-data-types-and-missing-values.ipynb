{
 "cells": [
  {
   "cell_type": "markdown",
   "id": "e6ffeaf2",
   "metadata": {
    "papermill": {
     "duration": 0.006788,
     "end_time": "2023-12-30T08:43:59.775199",
     "exception": false,
     "start_time": "2023-12-30T08:43:59.768411",
     "status": "completed"
    },
    "tags": []
   },
   "source": [
    "**This notebook is an exercise in the [Pandas](https://www.kaggle.com/learn/pandas) course.  You can reference the tutorial at [this link](https://www.kaggle.com/residentmario/data-types-and-missing-values).**\n",
    "\n",
    "---\n"
   ]
  },
  {
   "cell_type": "markdown",
   "id": "2b2777c3",
   "metadata": {
    "papermill": {
     "duration": 0.005942,
     "end_time": "2023-12-30T08:43:59.787719",
     "exception": false,
     "start_time": "2023-12-30T08:43:59.781777",
     "status": "completed"
    },
    "tags": []
   },
   "source": [
    "# Introduction\n",
    "\n",
    "Run the following cell to load your data and some utility functions."
   ]
  },
  {
   "cell_type": "code",
   "execution_count": 1,
   "id": "e5d7568e",
   "metadata": {
    "execution": {
     "iopub.execute_input": "2023-12-30T08:43:59.802712Z",
     "iopub.status.busy": "2023-12-30T08:43:59.802053Z",
     "iopub.status.idle": "2023-12-30T08:44:03.853812Z",
     "shell.execute_reply": "2023-12-30T08:44:03.852638Z"
    },
    "papermill": {
     "duration": 4.062958,
     "end_time": "2023-12-30T08:44:03.856772",
     "exception": false,
     "start_time": "2023-12-30T08:43:59.793814",
     "status": "completed"
    },
    "tags": []
   },
   "outputs": [
    {
     "name": "stdout",
     "output_type": "stream",
     "text": [
      "Setup complete.\n"
     ]
    }
   ],
   "source": [
    "import pandas as pd\n",
    "\n",
    "reviews = pd.read_csv(\"../input/wine-reviews/winemag-data-130k-v2.csv\", index_col=0)\n",
    "\n",
    "from learntools.core import binder; binder.bind(globals())\n",
    "from learntools.pandas.data_types_and_missing_data import *\n",
    "print(\"Setup complete.\")"
   ]
  },
  {
   "cell_type": "markdown",
   "id": "9090acd7",
   "metadata": {
    "papermill": {
     "duration": 0.006289,
     "end_time": "2023-12-30T08:44:03.869607",
     "exception": false,
     "start_time": "2023-12-30T08:44:03.863318",
     "status": "completed"
    },
    "tags": []
   },
   "source": [
    "# Exercises"
   ]
  },
  {
   "cell_type": "markdown",
   "id": "13a505ee",
   "metadata": {
    "papermill": {
     "duration": 0.006231,
     "end_time": "2023-12-30T08:44:03.882420",
     "exception": false,
     "start_time": "2023-12-30T08:44:03.876189",
     "status": "completed"
    },
    "tags": []
   },
   "source": [
    "## 1. \n",
    "What is the data type of the `points` column in the dataset?"
   ]
  },
  {
   "cell_type": "code",
   "execution_count": 2,
   "id": "ec9e132a",
   "metadata": {
    "execution": {
     "iopub.execute_input": "2023-12-30T08:44:03.899292Z",
     "iopub.status.busy": "2023-12-30T08:44:03.898425Z",
     "iopub.status.idle": "2023-12-30T08:44:03.910439Z",
     "shell.execute_reply": "2023-12-30T08:44:03.909487Z"
    },
    "papermill": {
     "duration": 0.02362,
     "end_time": "2023-12-30T08:44:03.912578",
     "exception": false,
     "start_time": "2023-12-30T08:44:03.888958",
     "status": "completed"
    },
    "tags": []
   },
   "outputs": [
    {
     "data": {
      "application/javascript": [
       "parent.postMessage({\"jupyterEvent\": \"custom.exercise_interaction\", \"data\": {\"outcomeType\": 1, \"valueTowardsCompletion\": 0.25, \"interactionType\": 1, \"questionType\": 1, \"questionId\": \"1_PointsDtype\", \"learnToolsVersion\": \"0.3.4\", \"failureMessage\": \"\", \"exceptionClass\": \"\", \"trace\": \"\"}}, \"*\")"
      ],
      "text/plain": [
       "<IPython.core.display.Javascript object>"
      ]
     },
     "metadata": {},
     "output_type": "display_data"
    },
    {
     "data": {
      "text/markdown": [
       "<span style=\"color:#33cc33\">Correct</span>"
      ],
      "text/plain": [
       "Correct"
      ]
     },
     "metadata": {},
     "output_type": "display_data"
    }
   ],
   "source": [
    "# Your code here\n",
    "dtype = reviews.points.dtype\n",
    "\n",
    "# Check your answer\n",
    "q1.check()"
   ]
  },
  {
   "cell_type": "code",
   "execution_count": 3,
   "id": "fc4aea33",
   "metadata": {
    "execution": {
     "iopub.execute_input": "2023-12-30T08:44:03.930364Z",
     "iopub.status.busy": "2023-12-30T08:44:03.929562Z",
     "iopub.status.idle": "2023-12-30T08:44:03.933753Z",
     "shell.execute_reply": "2023-12-30T08:44:03.932804Z"
    },
    "papermill": {
     "duration": 0.015743,
     "end_time": "2023-12-30T08:44:03.936368",
     "exception": false,
     "start_time": "2023-12-30T08:44:03.920625",
     "status": "completed"
    },
    "tags": []
   },
   "outputs": [],
   "source": [
    "#q1.hint()\n",
    "#q1.solution()"
   ]
  },
  {
   "cell_type": "markdown",
   "id": "ad272267",
   "metadata": {
    "papermill": {
     "duration": 0.006644,
     "end_time": "2023-12-30T08:44:03.950142",
     "exception": false,
     "start_time": "2023-12-30T08:44:03.943498",
     "status": "completed"
    },
    "tags": []
   },
   "source": [
    "## 2. \n",
    "Create a Series from entries in the `points` column, but convert the entries to strings. Hint: strings are `str` in native Python."
   ]
  },
  {
   "cell_type": "code",
   "execution_count": 4,
   "id": "c2f5846e",
   "metadata": {
    "execution": {
     "iopub.execute_input": "2023-12-30T08:44:03.966024Z",
     "iopub.status.busy": "2023-12-30T08:44:03.965559Z",
     "iopub.status.idle": "2023-12-30T08:44:04.071704Z",
     "shell.execute_reply": "2023-12-30T08:44:04.070506Z"
    },
    "papermill": {
     "duration": 0.117141,
     "end_time": "2023-12-30T08:44:04.074234",
     "exception": false,
     "start_time": "2023-12-30T08:44:03.957093",
     "status": "completed"
    },
    "tags": []
   },
   "outputs": [
    {
     "data": {
      "application/javascript": [
       "parent.postMessage({\"jupyterEvent\": \"custom.exercise_interaction\", \"data\": {\"outcomeType\": 1, \"valueTowardsCompletion\": 0.25, \"interactionType\": 1, \"questionType\": 1, \"questionId\": \"2_StrPoints\", \"learnToolsVersion\": \"0.3.4\", \"failureMessage\": \"\", \"exceptionClass\": \"\", \"trace\": \"\"}}, \"*\")"
      ],
      "text/plain": [
       "<IPython.core.display.Javascript object>"
      ]
     },
     "metadata": {},
     "output_type": "display_data"
    },
    {
     "data": {
      "text/markdown": [
       "<span style=\"color:#33cc33\">Correct</span>"
      ],
      "text/plain": [
       "Correct"
      ]
     },
     "metadata": {},
     "output_type": "display_data"
    }
   ],
   "source": [
    "point_strings = reviews.points.astype(\"str\")\n",
    "\n",
    "# Check your answer\n",
    "q2.check()"
   ]
  },
  {
   "cell_type": "code",
   "execution_count": 5,
   "id": "36ccc3e9",
   "metadata": {
    "execution": {
     "iopub.execute_input": "2023-12-30T08:44:04.091255Z",
     "iopub.status.busy": "2023-12-30T08:44:04.090808Z",
     "iopub.status.idle": "2023-12-30T08:44:04.096044Z",
     "shell.execute_reply": "2023-12-30T08:44:04.094844Z"
    },
    "papermill": {
     "duration": 0.016782,
     "end_time": "2023-12-30T08:44:04.098421",
     "exception": false,
     "start_time": "2023-12-30T08:44:04.081639",
     "status": "completed"
    },
    "tags": []
   },
   "outputs": [],
   "source": [
    "#q2.hint()\n",
    "#q2.solution()"
   ]
  },
  {
   "cell_type": "markdown",
   "id": "9e1448fa",
   "metadata": {
    "papermill": {
     "duration": 0.007591,
     "end_time": "2023-12-30T08:44:04.114021",
     "exception": false,
     "start_time": "2023-12-30T08:44:04.106430",
     "status": "completed"
    },
    "tags": []
   },
   "source": [
    "## 3.\n",
    "Sometimes the price column is null. How many reviews in the dataset are missing a price?"
   ]
  },
  {
   "cell_type": "code",
   "execution_count": 6,
   "id": "953ae601",
   "metadata": {
    "execution": {
     "iopub.execute_input": "2023-12-30T08:44:04.131894Z",
     "iopub.status.busy": "2023-12-30T08:44:04.130958Z",
     "iopub.status.idle": "2023-12-30T08:44:04.149377Z",
     "shell.execute_reply": "2023-12-30T08:44:04.148232Z"
    },
    "papermill": {
     "duration": 0.030306,
     "end_time": "2023-12-30T08:44:04.152174",
     "exception": false,
     "start_time": "2023-12-30T08:44:04.121868",
     "status": "completed"
    },
    "tags": []
   },
   "outputs": [
    {
     "data": {
      "application/javascript": [
       "parent.postMessage({\"jupyterEvent\": \"custom.exercise_interaction\", \"data\": {\"outcomeType\": 1, \"valueTowardsCompletion\": 0.25, \"interactionType\": 1, \"questionType\": 1, \"questionId\": \"3_CountMissingPrices\", \"learnToolsVersion\": \"0.3.4\", \"failureMessage\": \"\", \"exceptionClass\": \"\", \"trace\": \"\"}}, \"*\")"
      ],
      "text/plain": [
       "<IPython.core.display.Javascript object>"
      ]
     },
     "metadata": {},
     "output_type": "display_data"
    },
    {
     "data": {
      "text/markdown": [
       "<span style=\"color:#33cc33\">Correct</span>"
      ],
      "text/plain": [
       "Correct"
      ]
     },
     "metadata": {},
     "output_type": "display_data"
    }
   ],
   "source": [
    "n_missing_prices = len(reviews[reviews.price.isnull()])\n",
    "\n",
    "# Check your answer\n",
    "q3.check()"
   ]
  },
  {
   "cell_type": "code",
   "execution_count": 7,
   "id": "a73b36d7",
   "metadata": {
    "execution": {
     "iopub.execute_input": "2023-12-30T08:44:04.170107Z",
     "iopub.status.busy": "2023-12-30T08:44:04.169667Z",
     "iopub.status.idle": "2023-12-30T08:44:04.174235Z",
     "shell.execute_reply": "2023-12-30T08:44:04.173075Z"
    },
    "papermill": {
     "duration": 0.016747,
     "end_time": "2023-12-30T08:44:04.176854",
     "exception": false,
     "start_time": "2023-12-30T08:44:04.160107",
     "status": "completed"
    },
    "tags": []
   },
   "outputs": [],
   "source": [
    "#q3.hint()\n",
    "#q3.solution()"
   ]
  },
  {
   "cell_type": "markdown",
   "id": "e1032e25",
   "metadata": {
    "papermill": {
     "duration": 0.008636,
     "end_time": "2023-12-30T08:44:04.193641",
     "exception": false,
     "start_time": "2023-12-30T08:44:04.185005",
     "status": "completed"
    },
    "tags": []
   },
   "source": [
    "## 4.\n",
    "What are the most common wine-producing regions? Create a Series counting the number of times each value occurs in the `region_1` field. This field is often missing data, so replace missing values with `Unknown`. Sort in descending order.  Your output should look something like this:\n",
    "\n",
    "```\n",
    "Unknown                    21247\n",
    "Napa Valley                 4480\n",
    "                           ...  \n",
    "Bardolino Superiore            1\n",
    "Primitivo del Tarantino        1\n",
    "Name: region_1, Length: 1230, dtype: int64\n",
    "```"
   ]
  },
  {
   "cell_type": "code",
   "execution_count": 8,
   "id": "152dcbee",
   "metadata": {
    "execution": {
     "iopub.execute_input": "2023-12-30T08:44:04.211522Z",
     "iopub.status.busy": "2023-12-30T08:44:04.210940Z",
     "iopub.status.idle": "2023-12-30T08:44:04.262218Z",
     "shell.execute_reply": "2023-12-30T08:44:04.260616Z"
    },
    "papermill": {
     "duration": 0.063375,
     "end_time": "2023-12-30T08:44:04.264978",
     "exception": false,
     "start_time": "2023-12-30T08:44:04.201603",
     "status": "completed"
    },
    "tags": []
   },
   "outputs": [
    {
     "data": {
      "text/plain": [
       "region_1\n",
       "Unknown                 21247\n",
       "Napa Valley              4480\n",
       "Columbia Valley (WA)     4124\n",
       "Russian River Valley     3091\n",
       "California               2629\n",
       "                        ...  \n",
       "Offida Rosso                1\n",
       "Corton Perrières            1\n",
       "Isle St. George             1\n",
       "Geelong                     1\n",
       "Paestum                     1\n",
       "Name: count, Length: 1230, dtype: int64"
      ]
     },
     "execution_count": 8,
     "metadata": {},
     "output_type": "execute_result"
    }
   ],
   "source": [
    "reviews.region_1.fillna(\"Unknown\").value_counts().sort_values(ascending = False)"
   ]
  },
  {
   "cell_type": "code",
   "execution_count": 9,
   "id": "78ae4347",
   "metadata": {
    "execution": {
     "iopub.execute_input": "2023-12-30T08:44:04.284037Z",
     "iopub.status.busy": "2023-12-30T08:44:04.283577Z",
     "iopub.status.idle": "2023-12-30T08:44:04.367418Z",
     "shell.execute_reply": "2023-12-30T08:44:04.366332Z"
    },
    "papermill": {
     "duration": 0.096387,
     "end_time": "2023-12-30T08:44:04.369838",
     "exception": false,
     "start_time": "2023-12-30T08:44:04.273451",
     "status": "completed"
    },
    "tags": []
   },
   "outputs": [
    {
     "data": {
      "application/javascript": [
       "parent.postMessage({\"jupyterEvent\": \"custom.exercise_interaction\", \"data\": {\"outcomeType\": 1, \"valueTowardsCompletion\": 0.25, \"interactionType\": 1, \"questionType\": 2, \"questionId\": \"4_ReviewsPerRegion\", \"learnToolsVersion\": \"0.3.4\", \"failureMessage\": \"\", \"exceptionClass\": \"\", \"trace\": \"\"}}, \"*\")"
      ],
      "text/plain": [
       "<IPython.core.display.Javascript object>"
      ]
     },
     "metadata": {},
     "output_type": "display_data"
    },
    {
     "data": {
      "text/markdown": [
       "<span style=\"color:#33cc33\">Correct</span>"
      ],
      "text/plain": [
       "Correct"
      ]
     },
     "metadata": {},
     "output_type": "display_data"
    }
   ],
   "source": [
    "reviews_per_region = reviews.region_1.fillna(\"Unknown\").value_counts().sort_values(ascending = False)\n",
    "# reviews_per_region = reviews.region_1.fillna(\"Unknown\").value_counts()\n",
    "\n",
    "# Check your answer\n",
    "q4.check()"
   ]
  },
  {
   "cell_type": "code",
   "execution_count": 10,
   "id": "f30ec182",
   "metadata": {
    "execution": {
     "iopub.execute_input": "2023-12-30T08:44:04.388791Z",
     "iopub.status.busy": "2023-12-30T08:44:04.388370Z",
     "iopub.status.idle": "2023-12-30T08:44:04.392313Z",
     "shell.execute_reply": "2023-12-30T08:44:04.391474Z"
    },
    "papermill": {
     "duration": 0.016115,
     "end_time": "2023-12-30T08:44:04.394382",
     "exception": false,
     "start_time": "2023-12-30T08:44:04.378267",
     "status": "completed"
    },
    "tags": []
   },
   "outputs": [],
   "source": [
    "#q4.hint()\n",
    "#q4.solution()"
   ]
  },
  {
   "cell_type": "markdown",
   "id": "66050e99",
   "metadata": {
    "papermill": {
     "duration": 0.008442,
     "end_time": "2023-12-30T08:44:04.411262",
     "exception": false,
     "start_time": "2023-12-30T08:44:04.402820",
     "status": "completed"
    },
    "tags": []
   },
   "source": [
    "# Keep going\n",
    "\n",
    "Move on to **[renaming and combining](https://www.kaggle.com/residentmario/renaming-and-combining)**."
   ]
  },
  {
   "cell_type": "markdown",
   "id": "fc1c8977",
   "metadata": {
    "papermill": {
     "duration": 0.0081,
     "end_time": "2023-12-30T08:44:04.427838",
     "exception": false,
     "start_time": "2023-12-30T08:44:04.419738",
     "status": "completed"
    },
    "tags": []
   },
   "source": [
    "---\n",
    "\n",
    "\n",
    "\n",
    "\n",
    "*Have questions or comments? Visit the [course discussion forum](https://www.kaggle.com/learn/pandas/discussion) to chat with other learners.*"
   ]
  }
 ],
 "metadata": {
  "kaggle": {
   "accelerator": "none",
   "dataSources": [
    {
     "datasetId": 655,
     "sourceId": 1252,
     "sourceType": "datasetVersion"
    },
    {
     "datasetId": 2321,
     "sourceId": 3919,
     "sourceType": "datasetVersion"
    },
    {
     "datasetId": 2894,
     "sourceId": 4877,
     "sourceType": "datasetVersion"
    },
    {
     "datasetId": 3491,
     "sourceId": 5624,
     "sourceType": "datasetVersion"
    },
    {
     "datasetId": 1442,
     "sourceId": 8172,
     "sourceType": "datasetVersion"
    },
    {
     "datasetId": 9366,
     "sourceId": 13206,
     "sourceType": "datasetVersion"
    },
    {
     "datasetId": 179555,
     "sourceId": 403916,
     "sourceType": "datasetVersion"
    },
    {
     "datasetId": 4549,
     "sourceId": 466349,
     "sourceType": "datasetVersion"
    },
    {
     "datasetId": 2478,
     "sourceId": 1151655,
     "sourceType": "datasetVersion"
    },
    {
     "datasetId": 10128,
     "sourceId": 5438389,
     "sourceType": "datasetVersion"
    }
   ],
   "isGpuEnabled": false,
   "isInternetEnabled": false,
   "language": "python",
   "sourceType": "notebook"
  },
  "kernelspec": {
   "display_name": "Python 3",
   "language": "python",
   "name": "python3"
  },
  "language_info": {
   "codemirror_mode": {
    "name": "ipython",
    "version": 3
   },
   "file_extension": ".py",
   "mimetype": "text/x-python",
   "name": "python",
   "nbconvert_exporter": "python",
   "pygments_lexer": "ipython3",
   "version": "3.10.12"
  },
  "papermill": {
   "default_parameters": {},
   "duration": 8.969725,
   "end_time": "2023-12-30T08:44:05.161090",
   "environment_variables": {},
   "exception": null,
   "input_path": "__notebook__.ipynb",
   "output_path": "__notebook__.ipynb",
   "parameters": {},
   "start_time": "2023-12-30T08:43:56.191365",
   "version": "2.4.0"
  }
 },
 "nbformat": 4,
 "nbformat_minor": 5
}
