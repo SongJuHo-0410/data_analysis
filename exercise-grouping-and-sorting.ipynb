{
 "cells": [
  {
   "cell_type": "markdown",
   "id": "1f28246b",
   "metadata": {
    "papermill": {
     "duration": 0.006351,
     "end_time": "2023-12-28T13:49:50.408057",
     "exception": false,
     "start_time": "2023-12-28T13:49:50.401706",
     "status": "completed"
    },
    "tags": []
   },
   "source": [
    "**This notebook is an exercise in the [Pandas](https://www.kaggle.com/learn/pandas) course.  You can reference the tutorial at [this link](https://www.kaggle.com/residentmario/grouping-and-sorting).**\n",
    "\n",
    "---\n"
   ]
  },
  {
   "cell_type": "markdown",
   "id": "eea15399",
   "metadata": {
    "papermill": {
     "duration": 0.005556,
     "end_time": "2023-12-28T13:49:50.419549",
     "exception": false,
     "start_time": "2023-12-28T13:49:50.413993",
     "status": "completed"
    },
    "tags": []
   },
   "source": [
    "# Introduction\n",
    "\n",
    "In these exercises we'll apply groupwise analysis to our dataset.\n",
    "\n",
    "Run the code cell below to load the data before running the exercises."
   ]
  },
  {
   "cell_type": "code",
   "execution_count": 1,
   "id": "06aa5cac",
   "metadata": {
    "execution": {
     "iopub.execute_input": "2023-12-28T13:49:50.433493Z",
     "iopub.status.busy": "2023-12-28T13:49:50.432709Z",
     "iopub.status.idle": "2023-12-28T13:49:54.222100Z",
     "shell.execute_reply": "2023-12-28T13:49:54.220752Z"
    },
    "papermill": {
     "duration": 3.799466,
     "end_time": "2023-12-28T13:49:54.224715",
     "exception": false,
     "start_time": "2023-12-28T13:49:50.425249",
     "status": "completed"
    },
    "tags": []
   },
   "outputs": [
    {
     "name": "stdout",
     "output_type": "stream",
     "text": [
      "Setup complete.\n"
     ]
    }
   ],
   "source": [
    "import pandas as pd\n",
    "\n",
    "reviews = pd.read_csv(\"../input/wine-reviews/winemag-data-130k-v2.csv\", index_col=0)\n",
    "#pd.set_option(\"display.max_rows\", 5)\n",
    "\n",
    "from learntools.core import binder; binder.bind(globals())\n",
    "from learntools.pandas.grouping_and_sorting import *\n",
    "print(\"Setup complete.\")"
   ]
  },
  {
   "cell_type": "markdown",
   "id": "5fc2640c",
   "metadata": {
    "papermill": {
     "duration": 0.006077,
     "end_time": "2023-12-28T13:49:54.237526",
     "exception": false,
     "start_time": "2023-12-28T13:49:54.231449",
     "status": "completed"
    },
    "tags": []
   },
   "source": [
    "# Exercises"
   ]
  },
  {
   "cell_type": "markdown",
   "id": "b201ea64",
   "metadata": {
    "papermill": {
     "duration": 0.005608,
     "end_time": "2023-12-28T13:49:54.248950",
     "exception": false,
     "start_time": "2023-12-28T13:49:54.243342",
     "status": "completed"
    },
    "tags": []
   },
   "source": [
    "## 1.\n",
    "Who are the most common wine reviewers in the dataset? Create a `Series` whose index is the `taster_twitter_handle` category from the dataset, and whose values count how many reviews each person wrote."
   ]
  },
  {
   "cell_type": "code",
   "execution_count": 2,
   "id": "ed6ab82a",
   "metadata": {
    "execution": {
     "iopub.execute_input": "2023-12-28T13:49:54.262302Z",
     "iopub.status.busy": "2023-12-28T13:49:54.261899Z",
     "iopub.status.idle": "2023-12-28T13:49:54.293336Z",
     "shell.execute_reply": "2023-12-28T13:49:54.292296Z"
    },
    "papermill": {
     "duration": 0.040904,
     "end_time": "2023-12-28T13:49:54.295562",
     "exception": false,
     "start_time": "2023-12-28T13:49:54.254658",
     "status": "completed"
    },
    "tags": []
   },
   "outputs": [
    {
     "data": {
      "application/javascript": [
       "parent.postMessage({\"jupyterEvent\": \"custom.exercise_interaction\", \"data\": {\"outcomeType\": 1, \"valueTowardsCompletion\": 0.16666666666666666, \"interactionType\": 1, \"questionType\": 1, \"questionId\": \"1_ReviewsWritten\", \"learnToolsVersion\": \"0.3.4\", \"failureMessage\": \"\", \"exceptionClass\": \"\", \"trace\": \"\"}}, \"*\")"
      ],
      "text/plain": [
       "<IPython.core.display.Javascript object>"
      ]
     },
     "metadata": {},
     "output_type": "display_data"
    },
    {
     "data": {
      "text/markdown": [
       "<span style=\"color:#33cc33\">Correct:</span> \n",
       "\n",
       "\n",
       "```python\n",
       "reviews_written = reviews.groupby('taster_twitter_handle').size()\n",
       "```\n",
       "or\n",
       "```python\n",
       "reviews_written = reviews.groupby('taster_twitter_handle').taster_twitter_handle.count()\n",
       "```\n"
      ],
      "text/plain": [
       "Correct: \n",
       "\n",
       "\n",
       "```python\n",
       "reviews_written = reviews.groupby('taster_twitter_handle').size()\n",
       "```\n",
       "or\n",
       "```python\n",
       "reviews_written = reviews.groupby('taster_twitter_handle').taster_twitter_handle.count()\n",
       "```"
      ]
     },
     "metadata": {},
     "output_type": "display_data"
    }
   ],
   "source": [
    "# Your code here\n",
    "reviews_written = reviews.groupby(['taster_twitter_handle']).taster_twitter_handle.count()\n",
    "# reviews_written = reviews.groupby('taster_twitter_handle').size()\n",
    "\n",
    "# Check your answer\n",
    "q1.check()"
   ]
  },
  {
   "cell_type": "code",
   "execution_count": 3,
   "id": "e5ffa13b",
   "metadata": {
    "execution": {
     "iopub.execute_input": "2023-12-28T13:49:54.310068Z",
     "iopub.status.busy": "2023-12-28T13:49:54.309638Z",
     "iopub.status.idle": "2023-12-28T13:49:54.314391Z",
     "shell.execute_reply": "2023-12-28T13:49:54.313260Z"
    },
    "papermill": {
     "duration": 0.014353,
     "end_time": "2023-12-28T13:49:54.316457",
     "exception": false,
     "start_time": "2023-12-28T13:49:54.302104",
     "status": "completed"
    },
    "tags": []
   },
   "outputs": [],
   "source": [
    "#q1.hint()\n",
    "#q1.solution()"
   ]
  },
  {
   "cell_type": "markdown",
   "id": "342d03fb",
   "metadata": {
    "papermill": {
     "duration": 0.006069,
     "end_time": "2023-12-28T13:49:54.328710",
     "exception": false,
     "start_time": "2023-12-28T13:49:54.322641",
     "status": "completed"
    },
    "tags": []
   },
   "source": [
    "## 2.\n",
    "What is the best wine I can buy for a given amount of money? Create a `Series` whose index is wine prices and whose values is the maximum number of points a wine costing that much was given in a review. Sort the values by price, ascending (so that `4.0` dollars is at the top and `3300.0` dollars is at the bottom)."
   ]
  },
  {
   "cell_type": "code",
   "execution_count": 4,
   "id": "c748fd94",
   "metadata": {
    "execution": {
     "iopub.execute_input": "2023-12-28T13:49:54.343132Z",
     "iopub.status.busy": "2023-12-28T13:49:54.342246Z",
     "iopub.status.idle": "2023-12-28T13:49:54.356666Z",
     "shell.execute_reply": "2023-12-28T13:49:54.355573Z"
    },
    "papermill": {
     "duration": 0.023938,
     "end_time": "2023-12-28T13:49:54.358819",
     "exception": false,
     "start_time": "2023-12-28T13:49:54.334881",
     "status": "completed"
    },
    "tags": []
   },
   "outputs": [
    {
     "data": {
      "application/javascript": [
       "parent.postMessage({\"jupyterEvent\": \"custom.exercise_interaction\", \"data\": {\"outcomeType\": 1, \"valueTowardsCompletion\": 0.16666666666666666, \"interactionType\": 1, \"questionType\": 1, \"questionId\": \"2_BestRatingPerPrice\", \"learnToolsVersion\": \"0.3.4\", \"failureMessage\": \"\", \"exceptionClass\": \"\", \"trace\": \"\"}}, \"*\")"
      ],
      "text/plain": [
       "<IPython.core.display.Javascript object>"
      ]
     },
     "metadata": {},
     "output_type": "display_data"
    },
    {
     "data": {
      "text/markdown": [
       "<span style=\"color:#33cc33\">Correct</span>"
      ],
      "text/plain": [
       "Correct"
      ]
     },
     "metadata": {},
     "output_type": "display_data"
    }
   ],
   "source": [
    "best_rating_per_price = reviews.groupby('price')['points'].max().sort_index()\n",
    "\n",
    "# Check your answer\n",
    "q2.check()"
   ]
  },
  {
   "cell_type": "code",
   "execution_count": 5,
   "id": "ce3a401b",
   "metadata": {
    "execution": {
     "iopub.execute_input": "2023-12-28T13:49:54.373763Z",
     "iopub.status.busy": "2023-12-28T13:49:54.372802Z",
     "iopub.status.idle": "2023-12-28T13:49:54.383744Z",
     "shell.execute_reply": "2023-12-28T13:49:54.383075Z"
    },
    "papermill": {
     "duration": 0.020395,
     "end_time": "2023-12-28T13:49:54.385628",
     "exception": false,
     "start_time": "2023-12-28T13:49:54.365233",
     "status": "completed"
    },
    "tags": []
   },
   "outputs": [
    {
     "data": {
      "application/javascript": [
       "parent.postMessage({\"jupyterEvent\": \"custom.exercise_interaction\", \"data\": {\"interactionType\": 2, \"questionType\": 1, \"questionId\": \"2_BestRatingPerPrice\", \"learnToolsVersion\": \"0.3.4\", \"valueTowardsCompletion\": 0.0, \"failureMessage\": \"\", \"exceptionClass\": \"\", \"trace\": \"\", \"outcomeType\": 4}}, \"*\")"
      ],
      "text/plain": [
       "<IPython.core.display.Javascript object>"
      ]
     },
     "metadata": {},
     "output_type": "display_data"
    },
    {
     "data": {
      "text/markdown": [
       "<span style=\"color:#3366cc\">Hint:</span> Use `max()` and `sort_index()`.  The relevant columns in the DataFrame are `price` and `points`."
      ],
      "text/plain": [
       "Hint: Use `max()` and `sort_index()`.  The relevant columns in the DataFrame are `price` and `points`."
      ]
     },
     "metadata": {},
     "output_type": "display_data"
    },
    {
     "data": {
      "application/javascript": [
       "parent.postMessage({\"jupyterEvent\": \"custom.exercise_interaction\", \"data\": {\"interactionType\": 3, \"questionType\": 1, \"questionId\": \"2_BestRatingPerPrice\", \"learnToolsVersion\": \"0.3.4\", \"valueTowardsCompletion\": 0.0, \"failureMessage\": \"\", \"exceptionClass\": \"\", \"trace\": \"\", \"outcomeType\": 4}}, \"*\")"
      ],
      "text/plain": [
       "<IPython.core.display.Javascript object>"
      ]
     },
     "metadata": {},
     "output_type": "display_data"
    },
    {
     "data": {
      "text/markdown": [
       "<span style=\"color:#33cc99\">Solution:</span> \n",
       "```python\n",
       "best_rating_per_price = reviews.groupby('price')['points'].max().sort_index()\n",
       "```"
      ],
      "text/plain": [
       "Solution: \n",
       "```python\n",
       "best_rating_per_price = reviews.groupby('price')['points'].max().sort_index()\n",
       "```"
      ]
     },
     "metadata": {},
     "output_type": "display_data"
    }
   ],
   "source": [
    "q2.hint()\n",
    "q2.solution()"
   ]
  },
  {
   "cell_type": "markdown",
   "id": "6efc99cf",
   "metadata": {
    "papermill": {
     "duration": 0.006801,
     "end_time": "2023-12-28T13:49:54.399327",
     "exception": false,
     "start_time": "2023-12-28T13:49:54.392526",
     "status": "completed"
    },
    "tags": []
   },
   "source": [
    "## 3.\n",
    "What are the minimum and maximum prices for each `variety` of wine? Create a `DataFrame` whose index is the `variety` category from the dataset and whose values are the `min` and `max` values thereof."
   ]
  },
  {
   "cell_type": "code",
   "execution_count": 6,
   "id": "44c9f5b1",
   "metadata": {
    "execution": {
     "iopub.execute_input": "2023-12-28T13:49:54.415435Z",
     "iopub.status.busy": "2023-12-28T13:49:54.414276Z",
     "iopub.status.idle": "2023-12-28T13:49:54.439658Z",
     "shell.execute_reply": "2023-12-28T13:49:54.438627Z"
    },
    "papermill": {
     "duration": 0.035523,
     "end_time": "2023-12-28T13:49:54.441752",
     "exception": false,
     "start_time": "2023-12-28T13:49:54.406229",
     "status": "completed"
    },
    "tags": []
   },
   "outputs": [
    {
     "data": {
      "application/javascript": [
       "parent.postMessage({\"jupyterEvent\": \"custom.exercise_interaction\", \"data\": {\"outcomeType\": 1, \"valueTowardsCompletion\": 0.16666666666666666, \"interactionType\": 1, \"questionType\": 1, \"questionId\": \"3_PriceExtremes\", \"learnToolsVersion\": \"0.3.4\", \"failureMessage\": \"\", \"exceptionClass\": \"\", \"trace\": \"\"}}, \"*\")"
      ],
      "text/plain": [
       "<IPython.core.display.Javascript object>"
      ]
     },
     "metadata": {},
     "output_type": "display_data"
    },
    {
     "data": {
      "text/markdown": [
       "<span style=\"color:#33cc33\">Correct</span>"
      ],
      "text/plain": [
       "Correct"
      ]
     },
     "metadata": {},
     "output_type": "display_data"
    }
   ],
   "source": [
    "price_extremes = reviews.groupby(['variety']).price.agg([min,max])\n",
    "\n",
    "# Check your answer\n",
    "q3.check()"
   ]
  },
  {
   "cell_type": "code",
   "execution_count": 7,
   "id": "07713cb2",
   "metadata": {
    "execution": {
     "iopub.execute_input": "2023-12-28T13:49:54.457890Z",
     "iopub.status.busy": "2023-12-28T13:49:54.457158Z",
     "iopub.status.idle": "2023-12-28T13:49:54.461463Z",
     "shell.execute_reply": "2023-12-28T13:49:54.460482Z"
    },
    "papermill": {
     "duration": 0.014706,
     "end_time": "2023-12-28T13:49:54.463474",
     "exception": false,
     "start_time": "2023-12-28T13:49:54.448768",
     "status": "completed"
    },
    "tags": []
   },
   "outputs": [],
   "source": [
    "#q3.hint()\n",
    "#q3.solution()"
   ]
  },
  {
   "cell_type": "markdown",
   "id": "9d60d09c",
   "metadata": {
    "papermill": {
     "duration": 0.007076,
     "end_time": "2023-12-28T13:49:54.477800",
     "exception": false,
     "start_time": "2023-12-28T13:49:54.470724",
     "status": "completed"
    },
    "tags": []
   },
   "source": [
    "## 4.\n",
    "What are the most expensive wine varieties? Create a variable `sorted_varieties` containing a copy of the dataframe from the previous question where varieties are sorted in descending order based on minimum price, then on maximum price (to break ties)."
   ]
  },
  {
   "cell_type": "code",
   "execution_count": 8,
   "id": "dd17b7a5",
   "metadata": {
    "execution": {
     "iopub.execute_input": "2023-12-28T13:49:54.493486Z",
     "iopub.status.busy": "2023-12-28T13:49:54.493076Z",
     "iopub.status.idle": "2023-12-28T13:49:54.505851Z",
     "shell.execute_reply": "2023-12-28T13:49:54.504846Z"
    },
    "papermill": {
     "duration": 0.023064,
     "end_time": "2023-12-28T13:49:54.507894",
     "exception": false,
     "start_time": "2023-12-28T13:49:54.484830",
     "status": "completed"
    },
    "tags": []
   },
   "outputs": [
    {
     "data": {
      "application/javascript": [
       "parent.postMessage({\"jupyterEvent\": \"custom.exercise_interaction\", \"data\": {\"outcomeType\": 1, \"valueTowardsCompletion\": 0.16666666666666666, \"interactionType\": 1, \"questionType\": 1, \"questionId\": \"4_SortedVarieties\", \"learnToolsVersion\": \"0.3.4\", \"failureMessage\": \"\", \"exceptionClass\": \"\", \"trace\": \"\"}}, \"*\")"
      ],
      "text/plain": [
       "<IPython.core.display.Javascript object>"
      ]
     },
     "metadata": {},
     "output_type": "display_data"
    },
    {
     "data": {
      "text/markdown": [
       "<span style=\"color:#33cc33\">Correct</span>"
      ],
      "text/plain": [
       "Correct"
      ]
     },
     "metadata": {},
     "output_type": "display_data"
    }
   ],
   "source": [
    "sorted_varieties = price_extremes.sort_values(by = ['min','max'],ascending=False)\n",
    "\n",
    "# Check your answer\n",
    "q4.check()"
   ]
  },
  {
   "cell_type": "code",
   "execution_count": 9,
   "id": "fef210cc",
   "metadata": {
    "execution": {
     "iopub.execute_input": "2023-12-28T13:49:54.524939Z",
     "iopub.status.busy": "2023-12-28T13:49:54.524542Z",
     "iopub.status.idle": "2023-12-28T13:49:54.529116Z",
     "shell.execute_reply": "2023-12-28T13:49:54.527971Z"
    },
    "papermill": {
     "duration": 0.015667,
     "end_time": "2023-12-28T13:49:54.531207",
     "exception": false,
     "start_time": "2023-12-28T13:49:54.515540",
     "status": "completed"
    },
    "tags": []
   },
   "outputs": [],
   "source": [
    "#q4.hint()\n",
    "#q4.solution()"
   ]
  },
  {
   "cell_type": "markdown",
   "id": "1c74f990",
   "metadata": {
    "papermill": {
     "duration": 0.006989,
     "end_time": "2023-12-28T13:49:54.545594",
     "exception": false,
     "start_time": "2023-12-28T13:49:54.538605",
     "status": "completed"
    },
    "tags": []
   },
   "source": [
    "## 5.\n",
    "Create a `Series` whose index is reviewers and whose values is the average review score given out by that reviewer. Hint: you will need the `taster_name` and `points` columns."
   ]
  },
  {
   "cell_type": "code",
   "execution_count": 10,
   "id": "5f871019",
   "metadata": {
    "execution": {
     "iopub.execute_input": "2023-12-28T13:49:54.561577Z",
     "iopub.status.busy": "2023-12-28T13:49:54.561154Z",
     "iopub.status.idle": "2023-12-28T13:49:54.583173Z",
     "shell.execute_reply": "2023-12-28T13:49:54.582275Z"
    },
    "papermill": {
     "duration": 0.032586,
     "end_time": "2023-12-28T13:49:54.585302",
     "exception": false,
     "start_time": "2023-12-28T13:49:54.552716",
     "status": "completed"
    },
    "tags": []
   },
   "outputs": [
    {
     "data": {
      "application/javascript": [
       "parent.postMessage({\"jupyterEvent\": \"custom.exercise_interaction\", \"data\": {\"outcomeType\": 1, \"valueTowardsCompletion\": 0.16666666666666666, \"interactionType\": 1, \"questionType\": 1, \"questionId\": \"5_ReviewerMeanRatings\", \"learnToolsVersion\": \"0.3.4\", \"failureMessage\": \"\", \"exceptionClass\": \"\", \"trace\": \"\"}}, \"*\")"
      ],
      "text/plain": [
       "<IPython.core.display.Javascript object>"
      ]
     },
     "metadata": {},
     "output_type": "display_data"
    },
    {
     "data": {
      "text/markdown": [
       "<span style=\"color:#33cc33\">Correct</span>"
      ],
      "text/plain": [
       "Correct"
      ]
     },
     "metadata": {},
     "output_type": "display_data"
    }
   ],
   "source": [
    "reviewer_mean_ratings = reviews.groupby('taster_name')['points'].mean()\n",
    "\n",
    "# Check your answer\n",
    "q5.check()"
   ]
  },
  {
   "cell_type": "code",
   "execution_count": 11,
   "id": "f3d19e6e",
   "metadata": {
    "execution": {
     "iopub.execute_input": "2023-12-28T13:49:54.603231Z",
     "iopub.status.busy": "2023-12-28T13:49:54.602245Z",
     "iopub.status.idle": "2023-12-28T13:49:54.607177Z",
     "shell.execute_reply": "2023-12-28T13:49:54.606150Z"
    },
    "papermill": {
     "duration": 0.016108,
     "end_time": "2023-12-28T13:49:54.609455",
     "exception": false,
     "start_time": "2023-12-28T13:49:54.593347",
     "status": "completed"
    },
    "tags": []
   },
   "outputs": [],
   "source": [
    "#q5.hint()\n",
    "#q5.solution()"
   ]
  },
  {
   "cell_type": "markdown",
   "id": "e9f4c2c7",
   "metadata": {
    "papermill": {
     "duration": 0.007511,
     "end_time": "2023-12-28T13:49:54.624643",
     "exception": false,
     "start_time": "2023-12-28T13:49:54.617132",
     "status": "completed"
    },
    "tags": []
   },
   "source": [
    "Are there significant differences in the average scores assigned by the various reviewers? Run the cell below to use the `describe()` method to see a summary of the range of values."
   ]
  },
  {
   "cell_type": "code",
   "execution_count": 12,
   "id": "0d47945f",
   "metadata": {
    "execution": {
     "iopub.execute_input": "2023-12-28T13:49:54.642347Z",
     "iopub.status.busy": "2023-12-28T13:49:54.641632Z",
     "iopub.status.idle": "2023-12-28T13:49:54.654770Z",
     "shell.execute_reply": "2023-12-28T13:49:54.653736Z"
    },
    "papermill": {
     "duration": 0.024547,
     "end_time": "2023-12-28T13:49:54.657111",
     "exception": false,
     "start_time": "2023-12-28T13:49:54.632564",
     "status": "completed"
    },
    "tags": []
   },
   "outputs": [
    {
     "data": {
      "text/plain": [
       "count    19.000000\n",
       "mean     88.233026\n",
       "std       1.243610\n",
       "min      85.855422\n",
       "25%      87.323501\n",
       "50%      88.536235\n",
       "75%      88.975256\n",
       "max      90.562551\n",
       "Name: points, dtype: float64"
      ]
     },
     "execution_count": 12,
     "metadata": {},
     "output_type": "execute_result"
    }
   ],
   "source": [
    "reviewer_mean_ratings.describe()"
   ]
  },
  {
   "cell_type": "markdown",
   "id": "710f5a8d",
   "metadata": {
    "papermill": {
     "duration": 0.007483,
     "end_time": "2023-12-28T13:49:54.672368",
     "exception": false,
     "start_time": "2023-12-28T13:49:54.664885",
     "status": "completed"
    },
    "tags": []
   },
   "source": [
    "## 6.\n",
    "What combination of countries and varieties are most common? Create a `Series` whose index is a `MultiIndex`of `{country, variety}` pairs. For example, a pinot noir produced in the US should map to `{\"US\", \"Pinot Noir\"}`. Sort the values in the `Series` in descending order based on wine count."
   ]
  },
  {
   "cell_type": "code",
   "execution_count": 13,
   "id": "ee56aefb",
   "metadata": {
    "execution": {
     "iopub.execute_input": "2023-12-28T13:49:54.690157Z",
     "iopub.status.busy": "2023-12-28T13:49:54.689401Z",
     "iopub.status.idle": "2023-12-28T13:49:54.729100Z",
     "shell.execute_reply": "2023-12-28T13:49:54.727918Z"
    },
    "papermill": {
     "duration": 0.051351,
     "end_time": "2023-12-28T13:49:54.731478",
     "exception": false,
     "start_time": "2023-12-28T13:49:54.680127",
     "status": "completed"
    },
    "tags": []
   },
   "outputs": [
    {
     "data": {
      "application/javascript": [
       "parent.postMessage({\"jupyterEvent\": \"custom.exercise_interaction\", \"data\": {\"outcomeType\": 1, \"valueTowardsCompletion\": 0.16666666666666666, \"interactionType\": 1, \"questionType\": 1, \"questionId\": \"6_GroupbyCountryVariety\", \"learnToolsVersion\": \"0.3.4\", \"failureMessage\": \"\", \"exceptionClass\": \"\", \"trace\": \"\"}}, \"*\")"
      ],
      "text/plain": [
       "<IPython.core.display.Javascript object>"
      ]
     },
     "metadata": {},
     "output_type": "display_data"
    },
    {
     "data": {
      "text/markdown": [
       "<span style=\"color:#33cc33\">Correct</span>"
      ],
      "text/plain": [
       "Correct"
      ]
     },
     "metadata": {},
     "output_type": "display_data"
    }
   ],
   "source": [
    "# country_variety_counts = reviews.groupby(['country','variety']).country.agg([len]).sort_values(by = 'len', ascending = False)\n",
    "country_variety_counts = reviews.groupby(['country','variety']).size().sort_values(ascending = False)\n",
    "\n",
    "# Check your answer\n",
    "q6.check()"
   ]
  },
  {
   "cell_type": "code",
   "execution_count": 14,
   "id": "1387f977",
   "metadata": {
    "execution": {
     "iopub.execute_input": "2023-12-28T13:49:54.749577Z",
     "iopub.status.busy": "2023-12-28T13:49:54.749148Z",
     "iopub.status.idle": "2023-12-28T13:49:54.753294Z",
     "shell.execute_reply": "2023-12-28T13:49:54.752207Z"
    },
    "papermill": {
     "duration": 0.015974,
     "end_time": "2023-12-28T13:49:54.755552",
     "exception": false,
     "start_time": "2023-12-28T13:49:54.739578",
     "status": "completed"
    },
    "tags": []
   },
   "outputs": [],
   "source": [
    "#q6.hint()\n",
    "#q6.solution()"
   ]
  },
  {
   "cell_type": "markdown",
   "id": "1565f5e6",
   "metadata": {
    "papermill": {
     "duration": 0.007677,
     "end_time": "2023-12-28T13:49:54.771328",
     "exception": false,
     "start_time": "2023-12-28T13:49:54.763651",
     "status": "completed"
    },
    "tags": []
   },
   "source": [
    "# Keep going\n",
    "\n",
    "Move on to the [**data types and missing data**](https://www.kaggle.com/residentmario/data-types-and-missing-values)."
   ]
  },
  {
   "cell_type": "markdown",
   "id": "c55951db",
   "metadata": {
    "papermill": {
     "duration": 0.008822,
     "end_time": "2023-12-28T13:49:54.788021",
     "exception": false,
     "start_time": "2023-12-28T13:49:54.779199",
     "status": "completed"
    },
    "tags": []
   },
   "source": [
    "---\n",
    "\n",
    "\n",
    "\n",
    "\n",
    "*Have questions or comments? Visit the [course discussion forum](https://www.kaggle.com/learn/pandas/discussion) to chat with other learners.*"
   ]
  }
 ],
 "metadata": {
  "kaggle": {
   "accelerator": "none",
   "dataSources": [
    {
     "datasetId": 655,
     "sourceId": 1252,
     "sourceType": "datasetVersion"
    },
    {
     "datasetId": 2321,
     "sourceId": 3919,
     "sourceType": "datasetVersion"
    },
    {
     "datasetId": 2894,
     "sourceId": 4877,
     "sourceType": "datasetVersion"
    },
    {
     "datasetId": 3491,
     "sourceId": 5624,
     "sourceType": "datasetVersion"
    },
    {
     "datasetId": 1442,
     "sourceId": 8172,
     "sourceType": "datasetVersion"
    },
    {
     "datasetId": 9366,
     "sourceId": 13206,
     "sourceType": "datasetVersion"
    },
    {
     "datasetId": 179555,
     "sourceId": 403916,
     "sourceType": "datasetVersion"
    },
    {
     "datasetId": 4549,
     "sourceId": 466349,
     "sourceType": "datasetVersion"
    },
    {
     "datasetId": 2478,
     "sourceId": 1151655,
     "sourceType": "datasetVersion"
    },
    {
     "datasetId": 10128,
     "sourceId": 5438389,
     "sourceType": "datasetVersion"
    }
   ],
   "isGpuEnabled": false,
   "isInternetEnabled": false,
   "language": "python",
   "sourceType": "notebook"
  },
  "kernelspec": {
   "display_name": "Python 3",
   "language": "python",
   "name": "python3"
  },
  "language_info": {
   "codemirror_mode": {
    "name": "ipython",
    "version": 3
   },
   "file_extension": ".py",
   "mimetype": "text/x-python",
   "name": "python",
   "nbconvert_exporter": "python",
   "pygments_lexer": "ipython3",
   "version": "3.10.12"
  },
  "papermill": {
   "default_parameters": {},
   "duration": 8.933009,
   "end_time": "2023-12-28T13:49:55.317600",
   "environment_variables": {},
   "exception": null,
   "input_path": "__notebook__.ipynb",
   "output_path": "__notebook__.ipynb",
   "parameters": {},
   "start_time": "2023-12-28T13:49:46.384591",
   "version": "2.4.0"
  }
 },
 "nbformat": 4,
 "nbformat_minor": 5
}
